{
 "cells": [
  {
   "cell_type": "code",
   "execution_count": 1,
   "metadata": {
    "ExecuteTime": {
     "end_time": "2021-07-23T20:25:47.196964Z",
     "start_time": "2021-07-23T20:25:45.252866Z"
    }
   },
   "outputs": [],
   "source": [
    "import numpy as np\n",
    "import matplotlib.pyplot as plt\n",
    "import pandas as pd\n",
    "from sklearn.tree import DecisionTreeClassifier\n",
    "from sklearn import metrics"
   ]
  },
  {
   "cell_type": "markdown",
   "metadata": {},
   "source": [
    "**Choose input file**"
   ]
  },
  {
   "cell_type": "code",
   "execution_count": 2,
   "metadata": {
    "ExecuteTime": {
     "end_time": "2021-07-23T20:25:48.482466Z",
     "start_time": "2021-07-23T20:25:48.477748Z"
    }
   },
   "outputs": [],
   "source": [
    "comp_file = \"gen_descriptors\"\n",
    "comp_sheet = \"Sheet1\"\n",
    "num_par = 190\n",
    "par_start_col = 2\n",
    "comp_num_samples = 1560\n",
    "y_label_col_comp = 0 \n",
    "\n",
    "exp_file = \"gen_rxn_data\"\n",
    "exp_sheet = \"Phosphines\"\n",
    "exp_num_samples = 1776\n",
    "response_col = 3\n",
    "y_label_col_exp = 2"
   ]
  },
  {
   "cell_type": "markdown",
   "metadata": {},
   "source": [
    "**Sort data**"
   ]
  },
  {
   "cell_type": "code",
   "execution_count": 3,
   "metadata": {
    "ExecuteTime": {
     "end_time": "2021-07-23T20:25:55.634935Z",
     "start_time": "2021-07-23T20:25:49.816981Z"
    },
    "code_folding": [],
    "scrolled": false
   },
   "outputs": [
    {
     "name": "stdout",
     "output_type": "stream",
     "text": [
      "Number of entries in experimental file before removing empty cells: 1776\n",
      "Removing 1730 entries with empty cells\n",
      "Shape of descriptors file for all ligands: (1544, 190)\n",
      "Last three ids in the descriptor file: ['1906' '1907' '1908']\n",
      "Shape of descriptors file for ligands with experimental results: (46, 190)\n",
      "Shape of results file results (only ligands with experimental results): (46,)\n",
      "Shape of results file labels (only ligands with experimental results): (46,)\n",
      "First descriptor cell (for ligands with experimental results): -0.0663027140355674\n",
      "Ligands with results: ['3' '4' '6' '10' '11' '15' '17' '18' '19' '20' '32' '37' '42' '44' '50'\n",
      " '53' '54' '61' '62' '69' '72' '80' '81' '89' '91' '102' '104' '116' '157'\n",
      " '199' '232' '234' '239' '246' '250' '251' '266' '291' '292' '296' '309'\n",
      " '311' '327' '456' '728' '735']\n",
      "Experimental results: [11. 26.  1.  1. 59.  1. 77. 81. 94. 74. 18.  1.  1. 30.  1.  1. 11. 81.\n",
      " 80. 56. 84.  1. 36.  1. 16.  1.  1. 82. 46. 82.  1.  1. 76. 78. 15. 15.\n",
      " 63.  1.  1.  1. 11. 30. 17. 79. 30.  1.]\n"
     ]
    }
   ],
   "source": [
    "compinp = pd.read_excel(comp_file+\".xlsx\",comp_sheet,header=0,index_col=y_label_col_comp,nrows=comp_num_samples+1,usecols=list(range(0,(num_par+par_start_col))),engine='openpyxl')\n",
    "compinp = compinp.drop(['smiles'],axis=1)\n",
    "par_start_col = 1\n",
    "compinp.index = compinp.index.map(str)\n",
    "\n",
    "expinp = pd.read_excel(exp_file+\".xlsx\",exp_sheet,header=2,index_col=y_label_col_exp,nrows=exp_num_samples,usecols=list(range(0,response_col+1)),engine='openpyxl')\n",
    "\n",
    "X_names = list(compinp.iloc[0,par_start_col-1:num_par+par_start_col-1])\n",
    "X_labels = list(compinp.columns)[par_start_col-1:num_par+par_start_col-1]\n",
    "compinp.drop(index=compinp.index[0],inplace=True)\n",
    "X_all = np.asarray(compinp[X_labels],dtype=np.float)\n",
    "y_labels_comp = np.asarray(list(compinp.index),dtype=str)\n",
    "compnan = np.isnan(X_all).any(axis=1)\n",
    "y_labels_comp,X_all = y_labels_comp[~compnan],X_all[~compnan]\n",
    "X_labelname = [\" \".join(i) for i in zip(X_labels,X_names)]\n",
    "X_labelname_dict = dict(zip(X_labels,X_names))\n",
    "resp_label = list(expinp.columns)[response_col-1]\n",
    "y = np.asarray(expinp.iloc[:,response_col-1],dtype=np.float)\n",
    "y_labels_exp = np.asarray(list(expinp.index),dtype=str)\n",
    "mask_y = y.nonzero()[0]\n",
    "mask_y = ~np.isnan(y)\n",
    "mask_X = np.array([True if i in y_labels_comp else False for i in y_labels_exp])\n",
    "mask = mask_y&mask_X\n",
    "\n",
    "print(\"Number of entries in experimental file before removing empty cells: {}\".format(len(y)))\n",
    "print(\"Removing {} entries with empty cells\".format(len(y)-sum(mask)))\n",
    "\n",
    "y = y[np.array(mask)]\n",
    "y_labels = y_labels_exp[np.array(mask)]\n",
    "X = np.asarray(compinp.loc[y_labels],dtype=np.float)\n",
    "\n",
    "print(\"Shape of descriptors file for all ligands: {}\".format(X_all.shape))\n",
    "print(\"Last three ids in the descriptor file: {}\".format(y_labels_comp[-3:]))\n",
    "print(\"Shape of descriptors file for ligands with experimental results: {}\".format(X.shape))\n",
    "print(\"Shape of results file results (only ligands with experimental results): {}\".format(y.shape)) \n",
    "print(\"Shape of results file labels (only ligands with experimental results): {}\".format(y_labels.shape))\n",
    "print(\"First descriptor cell (for ligands with experimental results): {}\".format(X[0,0]))\n",
    "print('Ligands with results:',y_labels)\n",
    "print('Experimental results:',y)"
   ]
  },
  {
   "cell_type": "markdown",
   "metadata": {},
   "source": [
    "**Standard threshold analysis (single-node decision tree)**"
   ]
  },
  {
   "cell_type": "code",
   "execution_count": 4,
   "metadata": {
    "ExecuteTime": {
     "end_time": "2021-07-23T20:26:02.141597Z",
     "start_time": "2021-07-23T20:25:59.413096Z"
    },
    "scrolled": false
   },
   "outputs": [
    {
     "name": "stdout",
     "output_type": "stream",
     "text": [
      "x87 vbur_vbur_min\n",
      "Decision threshold = 58.22\n",
      "Accuracy: 0.89\n",
      "f1_score: 0.92\n",
      "Number datapoints = 46\n"
     ]
    },
    {
     "data": {
      "image/png": "[encoded data removed]",
      "text/plain": [
       "<Figure size 432x432 with 1 Axes>"
      ]
     },
     "metadata": {
      "needs_background": "light"
     },
     "output_type": "display_data"
    }
   ],
   "source": [
    "#features = range(len(X_labels))          # test all features\n",
    "features = [86]                           # test single feature (Vmin (Boltz) = 0, Vbur (min) = 86) \n",
    "\n",
    "y_cut = 10.0 \n",
    "y_class = np.array([0 if i < y_cut else 1 for i in y])\n",
    "n_classes = 2\n",
    "plot_colors = \"rg\"\n",
    "plot_step = 0.02          # originally 0.02\n",
    "accuracy_cutoff = 0.0      # filter thresholds based on accuracy cutoff\n",
    "\n",
    "for f_ind in features:\n",
    "    feature = X_labels[f_ind]\n",
    "    dt = DecisionTreeClassifier(max_depth=1).fit(X[:,f_ind].reshape(-1, 1), y_class)\n",
    "    if dt.score(X[:,f_ind].reshape(-1, 1), y_class) >= accuracy_cutoff:\n",
    "        print(feature, X_names[f_ind])\n",
    "        print(\"Decision threshold = {:.2f}\\nAccuracy: {:.2f}\\nf1_score: {:.2f}\\nNumber datapoints = {}\".format(\n",
    "            dt.tree_.threshold[0],dt.score(X[:,f_ind].reshape(-1, 1), y_class),metrics.f1_score(y_class,dt.predict(X[:,f_ind].reshape(-1, 1))),len(y)))\n",
    "        dt_plt = DecisionTreeClassifier(max_depth=1).fit(X[:,f_ind].reshape(-1, 1), y_class)\n",
    "        x_min, x_max = X[:,f_ind].min(), X[:,f_ind].max()\n",
    "        y_min, y_max = y.min(), y.max()\n",
    "        dx,dy = x_max-x_min,y_max-y_min\n",
    "        xx, yy = np.meshgrid(np.arange(x_min-0.04*dx, x_max+0.04*dx, plot_step),\n",
    "                         np.arange(y_min-0.04*dy, y_max+0.04*dy, plot_step))\n",
    "        plt.figure(figsize=(6, 6))    \n",
    "        Z = dt_plt.predict(xx.ravel().reshape(-1, 1))\n",
    "        Z = Z.reshape(xx.shape)\n",
    "        cs = plt.contourf(xx, yy, Z,colors=['#ffb8b8','#FF000000','#FF000000','#FF000000'])\n",
    "        pltlabel = X_labels[f_ind] + \" \" + X_names[f_ind]\n",
    "        plt.xlabel(pltlabel,fontsize=14)\n",
    "        plt.ylabel(\"yield (%)\",fontsize=14)\n",
    "        plt.xticks(fontsize=12.5)\n",
    "        plt.yticks(fontsize=12.5)\n",
    "        for i, color in zip(range(n_classes), plot_colors):\n",
    "            idx = np.where(y_class == i)\n",
    "            plt.scatter(X[idx, f_ind], y[idx], c=color,cmap=plt.cm.RdYlBu, edgecolor='black', s=50)    \n",
    "        plt.show()"
   ]
  },
  {
   "cell_type": "markdown",
   "metadata": {},
   "source": [
    "**Plot two descriptors with a colormap of reaction output**"
   ]
  },
  {
   "cell_type": "markdown",
   "metadata": {},
   "source": [
    "*Set up for HTE 3aa THF/H2O selectivity results*"
   ]
  },
  {
   "cell_type": "code",
   "execution_count": null,
   "metadata": {
    "ExecuteTime": {
     "end_time": "2021-07-23T20:20:09.234745Z",
     "start_time": "2021-07-23T20:20:08.999910Z"
    }
   },
   "outputs": [],
   "source": [
    "plt.figure(figsize=(12, 8))\n",
    "plt.xlabel(\"Vmin (Boltz)\",fontsize=18)\n",
    "plt.ylabel('Vbur (min., Å3)',fontsize=18)\n",
    "plt.xticks(fontsize=18)\n",
    "plt.xlim(-0.07, -0.035)\n",
    "plt.locator_params(axis='x', nbins=4)\n",
    "plt.ylim(40, 70)\n",
    "plt.yticks(fontsize=18)\n",
    "plt.locator_params(axis='y', nbins=5)\n",
    "plt.scatter(X[:,0],X[:,86], c=y,cmap=\"bwr\", edgecolor='black', s=200)\n",
    "cbar = plt.colorbar()\n",
    "cbar.set_label(\"Selectivity (ddG)\",rotation=90,size=18)\n",
    "cbar.ax.locator_params(nbins=5)\n",
    "plt.clim(vmin=-1, vmax=1)\n",
    "plt.show()"
   ]
  },
  {
   "cell_type": "markdown",
   "metadata": {},
   "source": [
    "*Set up for HTE 3aa THF/H2O yield results*"
   ]
  },
  {
   "cell_type": "code",
   "execution_count": 6,
   "metadata": {
    "ExecuteTime": {
     "end_time": "2021-07-23T20:27:03.598296Z",
     "start_time": "2021-07-23T20:27:03.235022Z"
    }
   },
   "outputs": [
    {
     "data": {
      "image/png": "[encoded data removed]",
      "text/plain": [
       "<Figure size 864x576 with 2 Axes>"
      ]
     },
     "metadata": {
      "needs_background": "light"
     },
     "output_type": "display_data"
    }
   ],
   "source": [
    "plt.figure(figsize=(12, 8))\n",
    "plt.xlabel(\"Vmin (Boltz)\",fontsize=18)\n",
    "plt.ylabel('Vbur (min., Å3)',fontsize=18)\n",
    "plt.xticks(fontsize=18)\n",
    "plt.xlim(-0.088, 0)\n",
    "plt.locator_params(axis='x', nbins=5)\n",
    "plt.yticks(fontsize=18)\n",
    "plt.ylim(37, 104)\n",
    "plt.locator_params(axis='y', nbins=4)\n",
    "plt.scatter(X[:,0],X[:,86], c=y,cmap=\"Oranges\", edgecolor='black', s=200)\n",
    "cbar = plt.colorbar()\n",
    "cbar.set_label(\"Yield (%)\", rotation=90,size=18)\n",
    "plt.clim(vmin=0, vmax=100)\n",
    "plt.show()"
   ]
  },
  {
   "cell_type": "code",
   "execution_count": null,
   "metadata": {},
   "outputs": [],
   "source": []
  }
 ],
 "metadata": {
  "kernelspec": {
   "display_name": "Python 3",
   "language": "python",
   "name": "python3"
  },
  "language_info": {
   "codemirror_mode": {
    "name": "ipython",
    "version": 3
   },
   "file_extension": ".py",
   "mimetype": "text/x-python",
   "name": "python",
   "nbconvert_exporter": "python",
   "pygments_lexer": "ipython3",
   "version": "3.7.3"
  },
  "toc": {
   "base_numbering": 1,
   "nav_menu": {
    "height": "314px",
    "width": "313px"
   },
   "number_sections": true,
   "sideBar": true,
   "skip_h1_title": false,
   "title_cell": "Table of Contents",
   "title_sidebar": "Contents",
   "toc_cell": false,
   "toc_position": {
    "height": "calc(100% - 180px)",
    "left": "10px",
    "top": "150px",
    "width": "207.6470489501953px"
   },
   "toc_section_display": true,
   "toc_window_display": true
  },
  "varInspector": {
   "cols": {
    "lenName": 16,
    "lenType": 16,
    "lenVar": "400"
   },
   "kernels_config": {
    "python": {
     "delete_cmd_postfix": "",
     "delete_cmd_prefix": "del ",
     "library": "var_list.py",
     "varRefreshCmd": "print(var_dic_list())"
    },
    "r": {
     "delete_cmd_postfix": ") ",
     "delete_cmd_prefix": "rm(",
     "library": "var_list.r",
     "varRefreshCmd": "cat(var_dic_list()) "
    }
   },
   "oldHeight": 959.666666,
   "position": {
    "height": "981.263px",
    "left": "1534.33px",
    "right": "20px",
    "top": "5px",
    "width": "631.037px"
   },
   "types_to_exclude": [
    "module",
    "function",
    "builtin_function_or_method",
    "instance",
    "_Feature"
   ],
   "varInspector_section_display": "block",
   "window_display": false
  }
 },
 "nbformat": 4,
 "nbformat_minor": 2
}
