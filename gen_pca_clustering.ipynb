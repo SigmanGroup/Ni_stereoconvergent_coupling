{
 "cells": [
  {
   "cell_type": "code",
   "execution_count": null,
   "metadata": {
    "ExecuteTime": {
     "end_time": "2021-07-23T19:42:48.834166Z",
     "start_time": "2021-07-23T19:42:45.201300Z"
    }
   },
   "outputs": [],
   "source": [
    "#code by Tobias Gensch with contributions from Cian Kingston\n",
    "import os,re,sys,pickle,datetime,time,random,itertools\n",
    "import warnings\n",
    "warnings.filterwarnings(\"ignore\")\n",
    "import numpy as np\n",
    "np.set_printoptions(threshold=sys.maxsize)\n",
    "import matplotlib.pyplot as plt\n",
    "from matplotlib.colors import ListedColormap\n",
    "import pandas as pd\n",
    "from scipy import stats\n",
    "import math\n",
    "from tqdm import tqdm\n",
    "import seaborn as sns \n",
    "from sklearn.cluster import KMeans\n",
    "from sklearn.decomposition import PCA,NMF\n",
    "from sklearn.ensemble import RandomForestClassifier,RandomForestRegressor,GradientBoostingRegressor\n",
    "from sklearn.feature_selection import SelectKBest,f_regression,mutual_info_regression\n",
    "from sklearn.kernel_ridge import KernelRidge\n",
    "from sklearn.linear_model import LogisticRegression,Lasso,LinearRegression,Ridge,ElasticNetCV,ElasticNet,Lars,LassoCV,RidgeCV,LarsCV,LassoLarsCV,LassoLarsIC,OrthogonalMatchingPursuitCV,OrthogonalMatchingPursuit\n",
    "from sklearn.manifold import TSNE,MDS\n",
    "from sklearn import metrics\n",
    "from sklearn.metrics import mean_absolute_error,mean_squared_error,r2_score,median_absolute_error\n",
    "from sklearn.model_selection import train_test_split,GridSearchCV,RepeatedKFold,LeaveOneOut\n",
    "from sklearn.multioutput import MultiOutputRegressor\n",
    "from sklearn.neighbors import KNeighborsClassifier, NearestNeighbors\n",
    "from sklearn.neural_network import MLPClassifier,MLPRegressor\n",
    "from sklearn.pipeline import Pipeline\n",
    "from sklearn.preprocessing import StandardScaler,MinMaxScaler,PolynomialFeatures\n",
    "from sklearn.svm import LinearSVC,SVR\n",
    "from sklearn.tree import DecisionTreeClassifier,DecisionTreeRegressor\n",
    "from sklearn.metrics import silhouette_samples, silhouette_score\n",
    "import loo_q2 as loo\n",
    "randomstate = 42\n",
    "import rdkit\n",
    "from rdkit import Chem\n",
    "from rdkit.Chem import AllChem\n",
    "from rdkit import RDConfig\n",
    "from rdkit.Chem import MolFromSmiles\n",
    "from rdkit.Chem import PandasTools\n",
    "from rdkit.Chem import Descriptors\n",
    "from rdkit.ML.Descriptors import MoleculeDescriptors\n",
    "from rdkit.Chem.Draw import MolsToGridImage\n",
    "from rdkit.Chem import PropertyMol\n",
    "from rdkit.Chem import Draw\n",
    "from rdkit.Chem.Draw import IPythonConsole\n",
    "from rdkit.Chem.Draw import rdMolDraw2D\n",
    "from rdkit.Chem.Draw.MolDrawing import MolDrawing,DrawingOptions\n",
    "DrawingOptions.bondLineWidth=1.8\n",
    "DrawingOptions.includeAtomNumbers=False\n",
    "size = (150, 150)\n",
    "from rdkit.Chem.Draw.MolDrawing import Font\n",
    "from rdkit.Chem import rdmolfiles\n",
    "from rdkit.Chem import rdFMCS\n",
    "import kennardstonealgorithm \n",
    "from PIL import Image"
   ]
  },
  {
   "cell_type": "markdown",
   "metadata": {},
   "source": [
    "**Load data**"
   ]
  },
  {
   "cell_type": "code",
   "execution_count": null,
   "metadata": {
    "ExecuteTime": {
     "end_time": "2021-07-23T19:43:28.924368Z",
     "start_time": "2021-07-23T19:43:22.903496Z"
    }
   },
   "outputs": [],
   "source": [
    "ci = pd.read_excel('gen_descriptors.xlsx','Sheet1',index_col=0,header=1,engine='openpyxl')\n",
    "compinp = ci[ci.columns[1:-3]].loc[ci.index[:]]\n",
    "compinp.index = compinp.index.astype(int)\n",
    "compinp.dropna(axis=0,inplace=True)\n",
    "\n",
    "inp2 = pd.read_excel(\"gen_identifiers.xlsx\",index_col=1,header=2,engine='openpyxl')\n",
    "inp2.index = inp2.index.astype(int)"
   ]
  },
  {
   "cell_type": "markdown",
   "metadata": {},
   "source": [
    "**Remove colinear descriptors**"
   ]
  },
  {
   "cell_type": "code",
   "execution_count": null,
   "metadata": {
    "ExecuteTime": {
     "end_time": "2021-07-23T19:43:31.602593Z",
     "start_time": "2021-07-23T19:43:31.471682Z"
    }
   },
   "outputs": [],
   "source": [
    "threshold = 0.95\n",
    "\n",
    "print('Shape of descriptors file before curation: ',compinp.shape)\n",
    "#compinp = compinp.astype(float)\n",
    "df_corr = compinp.corr()\n",
    "df_not_correlated = ~(df_corr.mask(np.tril(np.ones([len(df_corr)]*2, dtype=bool))).abs() > threshold).any()\n",
    "un_corr_idx = df_not_correlated.loc[df_not_correlated[df_not_correlated.index] == True].index\n",
    "compinp = compinp[un_corr_idx]\n",
    "print('Shape of descriptors file after curation: ',compinp.shape)"
   ]
  },
  {
   "cell_type": "markdown",
   "metadata": {},
   "source": [
    "**Create subsets from the identifiers file and scale the data**"
   ]
  },
  {
   "cell_type": "code",
   "execution_count": null,
   "metadata": {
    "ExecuteTime": {
     "end_time": "2021-07-23T19:43:35.413150Z",
     "start_time": "2021-07-23T19:43:35.366023Z"
    },
    "scrolled": false
   },
   "outputs": [],
   "source": [
    "X_all = np.array(compinp)\n",
    "X_gen_considered = np.array(compinp.loc[inp2[\"gen_considered\"]==1])\n",
    "X_gen_chosen = np.array(compinp.loc[inp2[\"gen_chosen\"]==1])\n",
    "\n",
    "X_all_ids = np.array(compinp.index)\n",
    "X_gen_considered_ids = np.array(compinp.loc[inp2[\"gen_considered\"]==1].index)\n",
    "X_gen_chosen_ids = np.array(compinp.loc[inp2[\"gen_chosen\"]==1].index)\n",
    "\n",
    "scaler = StandardScaler()\n",
    "scaler.fit(X_all)\n",
    "X_all_sc    = scaler.transform(X_all)\n",
    "X_gen_considered_sc = scaler.transform(X_gen_considered)\n",
    "X_gen_chosen_sc = scaler.transform(X_gen_chosen)"
   ]
  },
  {
   "cell_type": "markdown",
   "metadata": {},
   "source": [
    "**Run PCA with fit on X_all_sc for visualization**"
   ]
  },
  {
   "cell_type": "code",
   "execution_count": null,
   "metadata": {
    "ExecuteTime": {
     "end_time": "2021-07-23T19:43:38.880752Z",
     "start_time": "2021-07-23T19:43:38.769122Z"
    }
   },
   "outputs": [],
   "source": [
    "pca = PCA(n_components=4)\n",
    "pca.fit(X_all_sc)\n",
    "X_all_pca    = pca.transform(X_all_sc)\n",
    "X_gen_considered_pca = pca.transform(X_gen_considered_sc)\n",
    "X_gen_chosen_pca = pca.transform(X_gen_chosen_sc)\n",
    "\n",
    "pca_score = pca.explained_variance_ratio_\n",
    "pca_values = pca.singular_values_\n",
    "V = pca.components_\n",
    "\n",
    "print('Total variance explained by PCs:',round(np.sum(pca.explained_variance_ratio_*100),1),'%\\n')\n",
    "print(\"Percentage of explained variance per principal component\")\n",
    "for i,j in enumerate(pca_score):\n",
    "    print(f\"PC{i+1}   {j*100:.1f}%\")"
   ]
  },
  {
   "cell_type": "markdown",
   "metadata": {},
   "source": [
    "**Run PCA with fit on X_gen_considered_sc for clustering**"
   ]
  },
  {
   "cell_type": "code",
   "execution_count": null,
   "metadata": {
    "ExecuteTime": {
     "end_time": "2021-07-23T19:47:18.531187Z",
     "start_time": "2021-07-23T19:47:18.476760Z"
    }
   },
   "outputs": [],
   "source": [
    "pca = PCA(n_components=4)\n",
    "pca.fit(X_gen_considered_sc)\n",
    "X_gen_considered_pca = pca.transform(X_gen_considered_sc)\n",
    "X_gen_chosen_pca = pca.transform(X_gen_chosen_sc)\n",
    "\n",
    "print('Total variance explained by PCs:',round(np.sum(pca.explained_variance_ratio_*100),1),'%\\n')\n",
    "print(\"Percentage of explained variance per principal component\")\n",
    "for i,j in enumerate(pca_score):\n",
    "    print(f\"PC{i+1}   {j*100:.1f}%\")"
   ]
  },
  {
   "cell_type": "markdown",
   "metadata": {},
   "source": [
    "**Standard score plots**"
   ]
  },
  {
   "cell_type": "code",
   "execution_count": null,
   "metadata": {
    "ExecuteTime": {
     "end_time": "2021-07-23T19:43:43.766362Z",
     "start_time": "2021-07-23T19:43:43.469005Z"
    },
    "scrolled": false
   },
   "outputs": [],
   "source": [
    "X_use = X_gen_considered_pca\n",
    "X_ids = X_gen_considered_ids\n",
    "\n",
    "X_subset = X_gen_chosen_pca\n",
    "X_subset_ids = X_gen_chosen_ids\n",
    "\n",
    "f_ind_1 = 0\n",
    "f_ind_2 = 1\n",
    "x_min, x_max = X_use[:, f_ind_1].min() - 2, X_use[:, f_ind_1].max() + 2\n",
    "y_min, y_max = X_use[:, f_ind_2].min() - 2, X_use[:, f_ind_2].max() + 2\n",
    "plt.figure(figsize=(10,10))\n",
    "extent = [x_min,x_max,y_min,y_max]\n",
    "plt.xticks(fontsize=12.5) \n",
    "plt.yticks(fontsize=12.5)\n",
    "plt.xlabel(f\"PC{f_ind_1+1}\",fontsize=15)\n",
    "plt.ylabel(f\"PC{f_ind_2+1}\",fontsize=15)\n",
    "plt.locator_params(axis='y', nbins=10)\n",
    "plt.locator_params(axis='x', nbins=10)\n",
    "plt.xlim(x_min,x_max)\n",
    "plt.ylim(y_min,y_max) \n",
    "plt.scatter(X_use[:,f_ind_1], X_use[:,f_ind_2],c='#B1B1B1',alpha=0.6,marker=\".\",s=750,edgecolor='white')\n",
    "plt.scatter(X_subset[:,f_ind_1], X_subset[:,f_ind_2],c='#000080',alpha=0.8,marker=\".\",s=750,edgecolor='white')\n",
    "\n",
    "### plotting labels for main set\n",
    "#for i in range(0,len(X_use)):\n",
    "#    plt.text(X_use[i,f_ind_1],X_use[i,f_ind_2],\" \"+str(X_ids[i]),color=\"blue\",fontsize=10,ha=\"left\") \n",
    "\n",
    "### plotting labels for subset\n",
    "#for i in range(0,len(X_subset)):\n",
    "#    plt.text(X_subset[i,f_ind_1],X_subset[i,f_ind_2],\" \"+str(X_subset_ids[i]),color=\"red\",fontsize=10,ha=\"right\") \n",
    "\n",
    "plt.tight_layout()\n",
    "plt.show()\n",
    "#plt.savefig(\"pca.png\",dpi=300)"
   ]
  },
  {
   "cell_type": "markdown",
   "metadata": {},
   "source": [
    "**K-means clustering analysis and score plot**"
   ]
  },
  {
   "cell_type": "code",
   "execution_count": null,
   "metadata": {
    "ExecuteTime": {
     "end_time": "2021-07-23T19:47:22.587566Z",
     "start_time": "2021-07-23T19:47:22.036717Z"
    },
    "scrolled": false
   },
   "outputs": [],
   "source": [
    "X_use = X_gen_considered_pca\n",
    "X_main_ids = X_gen_considered_ids\n",
    "\n",
    "nclusters = 47\n",
    "\n",
    "X_subset = X_gen_chosen_pca\n",
    "X_subset_ids = X_gen_chosen_ids\n",
    "\n",
    "####################################################################################\n",
    "\n",
    "X_kmeans = X_use\n",
    "kmeans = KMeans(n_clusters=nclusters, random_state=42).fit(X_kmeans)\n",
    "\n",
    "dists = []\n",
    "for x in range(len(X_kmeans)):\n",
    "    delta = [X_kmeans[x,i]-kmeans.cluster_centers_[kmeans.labels_[x],i] for i in range(len(X_kmeans[0]))]\n",
    "    dist = np.linalg.norm(delta)\n",
    "    dists.append(dist)\n",
    "\n",
    "clusters = {}\n",
    "clusterdists = {}\n",
    "clustermins = []\n",
    "clusterorders_dict = {}\n",
    "clusterorders = np.zeros(X_kmeans.shape[0])\n",
    "\n",
    "for x in range(nclusters):\n",
    "    clusters[x] = [i for i in range(len(kmeans.labels_)) if kmeans.labels_[i] == x]\n",
    "    clusterdists[x] = [dists[i] for i in clusters[x]]\n",
    "    clustermins.append(clusters[x][clusterdists[x].index(min(clusterdists[x]))])\n",
    "    clusterorders_dict[x] = [y for _,y in sorted(zip(clusterdists[x],clusters[x]))]\n",
    "    for i in clusters[x]:\n",
    "        clusterorders[i] = clusterorders_dict[x].index(i)+1\n",
    "\n",
    "main_row_id = list(enumerate(X_main_ids)) \n",
    "clusters_with_ids = {}\n",
    "for i in range(0,len(clusters)):\n",
    "    emptylist = []\n",
    "    for j in range(0,len(clusters[i])):\n",
    "        #print('row and id = ',main_row_id[clusters[i][j]])\n",
    "        emptylist.append(main_row_id[clusters[i][j]][1])\n",
    "    clusters_with_ids[i] = emptylist\n",
    "\n",
    "centroids_with_ids = []\n",
    "for j in clustermins:\n",
    "    for i in range(0,len(main_row_id)):\n",
    "        if main_row_id[i][0] == j:\n",
    "            centroids_with_ids.append(main_row_id[i][1])\n",
    "\n",
    "####################################################################################\n",
    "        \n",
    "f_ind_1 = 0\n",
    "f_ind_2 = 1\n",
    "x_min, x_max = X_kmeans[:, f_ind_1].min() - 2, X_kmeans[:, f_ind_1].max() + 2\n",
    "y_min, y_max = X_kmeans[:, f_ind_2].min() - 2, X_kmeans[:, f_ind_2].max() + 2\n",
    "plt.figure(figsize=(10,10))\n",
    "extent = [x_min,x_max,y_min,y_max]\n",
    "plt.xticks(fontsize=10) \n",
    "plt.yticks(fontsize=10)\n",
    "plt.xlabel(r\"PC1\",fontsize=12.5)\n",
    "plt.ylabel(r\"PC2\",fontsize=12.5)\n",
    "plt.locator_params(axis='y', nbins=8)\n",
    "plt.xlim(x_min,x_max)\n",
    "plt.ylim(y_min,y_max)\n",
    "mapping = kmeans.labels_\n",
    "cMap = \"tab20c\"\n",
    "plt.scatter(X_kmeans[:,f_ind_1], X_kmeans[:,f_ind_2],c=mapping,cmap=cMap,alpha=0.6,marker=\".\",s=750,edgecolor='white')\n",
    "\n",
    "### plot ligand ids\n",
    "#for i in range(0,nclusters):\n",
    "#    for j in range(0,len(clusters_with_ids[i])):\n",
    "#        plt.text(X_use[clusters[i][j],f_ind_1],X_use[clusters[i][j],f_ind_2],\" \"+str(clusters_with_ids[i][j]),color=\"blue\",fontsize=12,ha=\"left\")\n",
    "\n",
    "### highlight centroids\n",
    "#plt.scatter(X_use[clustermins,f_ind_1],X_use[clustermins,f_ind_2],c=range(nclusters),cmap=cMap,alpha=1,marker=\"D\",s=60,edgecolor=\"black\",linewidth=1)\n",
    "\n",
    "### plot the subset\n",
    "#plt.scatter(X_subset[:,f_ind_1], X_subset[:,f_ind_2],c='#000080',alpha=0.8,marker=\"D\",s=150,edgecolor='white')\n",
    "\n",
    "plt.tight_layout()\n",
    "#plt.savefig(\"clustering.png\",dpi=300)\n",
    "plt.show()"
   ]
  },
  {
   "cell_type": "markdown",
   "metadata": {},
   "source": [
    "**3D score plot**"
   ]
  },
  {
   "cell_type": "code",
   "execution_count": null,
   "metadata": {
    "ExecuteTime": {
     "end_time": "2021-07-23T19:46:45.562890Z",
     "start_time": "2021-07-23T19:46:45.164891Z"
    },
    "scrolled": false
   },
   "outputs": [],
   "source": [
    "from mpl_toolkits.mplot3d import Axes3D  # noqa: F401 unused import # Fixing random state for reproducibility\n",
    "np.random.seed(19680801)\n",
    "fig = plt.figure(figsize=(8,8))\n",
    "ax = fig.add_subplot(111, projection='3d')\n",
    "mapping = kmeans.labels_\n",
    "cMap = \"tab20c\"\n",
    "ax.scatter(X_kmeans[:,0],X_kmeans[:,1],X_kmeans[:,2],c=mapping,cmap=cMap,alpha=0.6,marker=\".\",s=300,edgecolor='white')\n",
    "#ax.scatter(X_kmeans[clustermins,0],X_kmeans[clustermins,1],X_kmeans[clustermins,2],c=range(nclusters), marker=\"D\",s=20,alpha=1,cmap=cMap,edgecolor=\"black\",linewidth=0.5)\n",
    "ax.scatter(X_subset[:,0],X_subset[:,1],X_subset[:,2],c='#000080',alpha=0.8,marker=\"D\",s=50,edgecolor='white')\n",
    "ax.set_xlabel('PC1')\n",
    "ax.set_ylabel('PC2')\n",
    "ax.set_zlabel('PC3')\n",
    "#plt.savefig(\"clustering 3D.png\",dpi=300)\n",
    "plt.show()"
   ]
  },
  {
   "cell_type": "markdown",
   "metadata": {
    "ExecuteTime": {
     "end_time": "2020-08-10T01:16:06.304201Z",
     "start_time": "2020-08-10T01:16:06.299612Z"
    }
   },
   "source": [
    "**Printing the centroids**"
   ]
  },
  {
   "cell_type": "code",
   "execution_count": null,
   "metadata": {
    "ExecuteTime": {
     "end_time": "2021-07-23T19:46:58.910866Z",
     "start_time": "2021-07-23T19:46:57.727049Z"
    },
    "scrolled": false
   },
   "outputs": [],
   "source": [
    "centroid_smiles = np.array(inp2['SMILES'].loc[centroids_with_ids])\n",
    "count=0\n",
    "subms = []\n",
    "for i in centroid_smiles:\n",
    "    x = Chem.MolFromSmiles(i)\n",
    "    count+=1\n",
    "    subms.append(x)\n",
    "\n",
    "clusters_and_centroidswithids = list(enumerate(centroids_with_ids))   \n",
    "my_labels = []\n",
    "for i in range(0,len(clusters_and_centroidswithids)):\n",
    "    x = 'cluster '+str(clusters_and_centroidswithids[i][0])+'ligand id '+str(clusters_and_centroidswithids[i][1])\n",
    "    my_labels.append('cluster '+str(clusters_and_centroidswithids[i][0])+' ligand id '+str(clusters_and_centroidswithids[i][1]))\n",
    "    \n",
    "molsPerRow = 5\n",
    "subImgSize= (400,400)\n",
    "nRows = -(count // -molsPerRow)\n",
    "fullSize = (molsPerRow * subImgSize[0], nRows * subImgSize[1])\n",
    "img = rdMolDraw2D.MolDraw2DCairo(fullSize[0],fullSize[1],subImgSize[0], subImgSize[1])\n",
    "img.drawOptions().legendFontSize=30\n",
    "img.DrawMolecules(subms[:],legends=my_labels[:])\n",
    "img.SetFontSize(100)\n",
    "img.FinishDrawing()\n",
    "with open('name.png','wb+') as wfp:             # opening a png file, goes into current folder\n",
    "    wfp.write(img.GetDrawingText())             # saving in the image\n",
    "Image.open('name.png')                          # opening it in the notebook"
   ]
  },
  {
   "cell_type": "markdown",
   "metadata": {},
   "source": [
    "**Printing all the ligands in a cluster**"
   ]
  },
  {
   "cell_type": "code",
   "execution_count": null,
   "metadata": {
    "ExecuteTime": {
     "end_time": "2021-07-23T19:47:04.485092Z",
     "start_time": "2021-07-23T19:47:04.242484Z"
    }
   },
   "outputs": [],
   "source": [
    "cluster = 2\n",
    "\n",
    "###########################################################################\n",
    "\n",
    "X_main_smiles = np.array(inp2['SMILES'].loc[X_main_ids])\n",
    "mainset_row_smiles = list(enumerate(X_main_smiles))\n",
    "clusters_with_smiles = {}\n",
    "for i in range(0,len(clusters)):\n",
    "    emptylist = []\n",
    "    for j in range(0,len(clusters[i])):\n",
    "        emptylist.append(mainset_row_smiles[clusters[i][j]][1])\n",
    "    clusters_with_smiles[i] = emptylist\n",
    "clusters_to_use = clusters_with_smiles\n",
    "clusters_to_use = dict( [(k,v) for k,v in clusters_to_use.items() if len(v)>0]) # removes empty keys\n",
    "count=0\n",
    "subms = []\n",
    "for j in clusters_to_use[cluster]:\n",
    "    x = Chem.MolFromSmiles(j)\n",
    "    count+=1\n",
    "    subms.append(x)\n",
    "my_labels = []  \n",
    "for j in range(0,len(clusters_with_ids[cluster])):\n",
    "    x = 'cluster '+str(cluster)+' id %d'%(clusters_with_ids[cluster][j])\n",
    "    my_labels.append(x)\n",
    "molsPerRow = 4\n",
    "subImgSize= (400,400)\n",
    "nRows = -(count // -molsPerRow)\n",
    "fullSize = (molsPerRow * subImgSize[0], nRows * subImgSize[1])\n",
    "img = rdMolDraw2D.MolDraw2DCairo(fullSize[0],fullSize[1],subImgSize[0], subImgSize[1])\n",
    "img.drawOptions().legendFontSize=25\n",
    "img.DrawMolecules(subms[:],legends=my_labels[:])\n",
    "img.SetFontSize(100)\n",
    "img.FinishDrawing()\n",
    "with open('name.png','wb+') as wfp:\n",
    "    wfp.write(img.GetDrawingText())\n",
    "Image.open('name.png')"
   ]
  },
  {
   "cell_type": "code",
   "execution_count": null,
   "metadata": {},
   "outputs": [],
   "source": []
  }
 ],
 "metadata": {
  "kernelspec": {
   "display_name": "Python 3",
   "language": "python",
   "name": "python3"
  },
  "language_info": {
   "codemirror_mode": {
    "name": "ipython",
    "version": 3
   },
   "file_extension": ".py",
   "mimetype": "text/x-python",
   "name": "python",
   "nbconvert_exporter": "python",
   "pygments_lexer": "ipython3",
   "version": "3.7.6"
  },
  "toc": {
   "base_numbering": 1,
   "nav_menu": {},
   "number_sections": true,
   "sideBar": true,
   "skip_h1_title": false,
   "title_cell": "Table of Contents",
   "title_sidebar": "Contents",
   "toc_cell": false,
   "toc_position": {
    "height": "1009.6px",
    "left": "690px",
    "top": "90.8px",
    "width": "165px"
   },
   "toc_section_display": true,
   "toc_window_display": true
  },
  "varInspector": {
   "cols": {
    "lenName": 16,
    "lenType": 16,
    "lenVar": "400"
   },
   "kernels_config": {
    "python": {
     "delete_cmd_postfix": "",
     "delete_cmd_prefix": "del ",
     "library": "var_list.py",
     "varRefreshCmd": "print(var_dic_list())"
    },
    "r": {
     "delete_cmd_postfix": ") ",
     "delete_cmd_prefix": "rm(",
     "library": "var_list.r",
     "varRefreshCmd": "cat(var_dic_list()) "
    }
   },
   "types_to_exclude": [
    "module",
    "function",
    "builtin_function_or_method",
    "instance",
    "_Feature"
   ],
   "window_display": false
  }
 },
 "nbformat": 4,
 "nbformat_minor": 2
}
